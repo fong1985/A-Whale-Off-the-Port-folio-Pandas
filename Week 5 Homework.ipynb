{
 "cells": [
  {
   "cell_type": "markdown",
   "metadata": {},
   "source": [
    "# Unit 5 - Financial Planning\n"
   ]
  },
  {
   "cell_type": "code",
   "execution_count": 1,
   "metadata": {},
   "outputs": [],
   "source": [
    "# Initial imports\n",
    "import os\n",
    "import requests\n",
    "import pandas as pd\n",
    "from dotenv import load_dotenv\n",
    "import alpaca_trade_api as tradeapi\n",
    "from MCForecastTools import MCSimulation\n",
    "\n",
    "%matplotlib inline"
   ]
  },
  {
   "cell_type": "code",
   "execution_count": 2,
   "metadata": {},
   "outputs": [
    {
     "data": {
      "text/plain": [
       "True"
      ]
     },
     "execution_count": 2,
     "metadata": {},
     "output_type": "execute_result"
    }
   ],
   "source": [
    "# Load .env enviroment variables\n",
    "load_dotenv()"
   ]
  },
  {
   "cell_type": "markdown",
   "metadata": {},
   "source": [
    "## Part 1 - Personal Finance Planner"
   ]
  },
  {
   "cell_type": "markdown",
   "metadata": {},
   "source": [
    "### Collect Crypto Prices Using the `requests` Library"
   ]
  },
  {
   "cell_type": "code",
   "execution_count": 3,
   "metadata": {},
   "outputs": [],
   "source": [
    "# Set current amount of crypto assets\n",
    "# YOUR CODE HERE!\n",
    "my_btc = 1.2\n",
    "my_eth = 5.3"
   ]
  },
  {
   "cell_type": "code",
   "execution_count": 4,
   "metadata": {},
   "outputs": [],
   "source": [
    "# Set Alpaca API key and secret\n",
    "alpaca_api_key = os.getenv(\"ALPACA_API_KEY\")\n",
    "alpaca_secret_key = os.getenv(\"ALPACA_SECRET_KEY\")"
   ]
  },
  {
   "cell_type": "code",
   "execution_count": 5,
   "metadata": {},
   "outputs": [
    {
     "name": "stdout",
     "output_type": "stream",
     "text": [
      "Alpaca Key type: <class 'str'>\n",
      "Alpaca Secret Key type: <class 'str'>\n"
     ]
    }
   ],
   "source": [
    "# Verify that Alpaca key and secret were correctly loaded\n",
    "print(f\"Alpaca Key type: {type(alpaca_api_key)}\")\n",
    "print(f\"Alpaca Secret Key type: {type(alpaca_secret_key)}\")"
   ]
  },
  {
   "cell_type": "code",
   "execution_count": 6,
   "metadata": {},
   "outputs": [],
   "source": [
    "# Create the Alpaca API object\n",
    "alpaca = tradeapi.REST(\n",
    "    alpaca_api_key,\n",
    "    alpaca_secret_key,\n",
    "    api_version=\"v2\")"
   ]
  },
  {
   "cell_type": "code",
   "execution_count": 7,
   "metadata": {},
   "outputs": [],
   "source": [
    "# Crypto API URLs\n",
    "btc_url = \"https://api.alternative.me/v2/ticker/Bitcoin/?convert=CAD\"\n",
    "eth_url = \"https://api.alternative.me/v2/ticker/Ethereum/?convert=CAD\""
   ]
  },
  {
   "cell_type": "code",
   "execution_count": 8,
   "metadata": {},
   "outputs": [
    {
     "data": {
      "text/plain": [
       "65449.0"
      ]
     },
     "execution_count": 8,
     "metadata": {},
     "output_type": "execute_result"
    }
   ],
   "source": [
    "# Fetch current BTC price\n",
    "# YOUR CODE HERE!\n",
    "btc_data = requests.get(btc_url)\n",
    "btc_content = btc_data.content\n",
    "btcdata = btc_data.json()\n",
    "btc_price = btcdata['data']['1']['quotes']['USD']['price']\n",
    "btc_price"
   ]
  },
  {
   "cell_type": "code",
   "execution_count": 9,
   "metadata": {},
   "outputs": [
    {
     "data": {
      "text/plain": [
       "4738.83"
      ]
     },
     "execution_count": 9,
     "metadata": {},
     "output_type": "execute_result"
    }
   ],
   "source": [
    "# Fetch current ETH price\n",
    "# YOUR CODE HERE!]\n",
    "eth_data = requests.get(eth_url)\n",
    "eth_content = eth_data.content\n",
    "ethdata = eth_data.json()\n",
    "eth_price = ethdata['data']['1027']['quotes']['USD']['price']\n",
    "eth_price"
   ]
  },
  {
   "cell_type": "code",
   "execution_count": 10,
   "metadata": {},
   "outputs": [
    {
     "name": "stdout",
     "output_type": "stream",
     "text": [
      "BTC Value: $ 78538.8 ETH Value: $ 25115.799\n",
      "Portfolio Value =  $ 103654.599\n"
     ]
    }
   ],
   "source": [
    "# Compute current value of my crpto\n",
    "# YOUR CODE HERE!\n",
    "btc_value = btc_price * my_btc\n",
    "eth_value = eth_price * my_eth\n",
    "print(\"BTC Value:\", \"$\", btc_value, \"ETH Value:\", \"$\", eth_value)\n",
    "print(\"Portfolio Value = \", \"$\", btc_value+eth_value)"
   ]
  },
  {
   "cell_type": "code",
   "execution_count": 11,
   "metadata": {},
   "outputs": [
    {
     "name": "stdout",
     "output_type": "stream",
     "text": [
      "The current value of your 1.2 BTC is $78538.80\n",
      "The current value of your 5.3 ETH is $25115.80\n"
     ]
    }
   ],
   "source": [
    "# Print current crypto wallet balance\n",
    "print(f\"The current value of your {my_btc} BTC is ${btc_value:0.2f}\")\n",
    "print(f\"The current value of your {my_eth} ETH is ${eth_value:0.2f}\")"
   ]
  },
  {
   "cell_type": "markdown",
   "metadata": {},
   "source": [
    "### Collect Investments Data Using Alpaca: `SPY` (stocks) and `AGG` (bonds)"
   ]
  },
  {
   "cell_type": "code",
   "execution_count": 12,
   "metadata": {},
   "outputs": [],
   "source": [
    "# Current amount of shares\n",
    "# YOUR CODE HERE!\n",
    "my_agg = 200\n",
    "my_spy = 50"
   ]
  },
  {
   "cell_type": "code",
   "execution_count": 13,
   "metadata": {},
   "outputs": [],
   "source": [
    "# Set Alpaca API key and secret\n",
    "# YOUR CODE HERE!\n",
    "alpaca_api_key = os.getenv(\"ALPACA_API_KEY\")\n",
    "alpaca_secret_key = os.getenv(\"ALPACA_SECRET_KEY\")\n",
    "\n",
    "# Create the Alpaca API object\n",
    "# YOUR CODE HERE!\n",
    "alpaca = tradeapi.REST(\n",
    "    alpaca_api_key,\n",
    "    alpaca_secret_key,\n",
    "    api_version=\"v2\")"
   ]
  },
  {
   "cell_type": "code",
   "execution_count": 14,
   "metadata": {},
   "outputs": [
    {
     "data": {
      "text/html": [
       "<div>\n",
       "<style scoped>\n",
       "    .dataframe tbody tr th:only-of-type {\n",
       "        vertical-align: middle;\n",
       "    }\n",
       "\n",
       "    .dataframe tbody tr th {\n",
       "        vertical-align: top;\n",
       "    }\n",
       "\n",
       "    .dataframe thead tr th {\n",
       "        text-align: left;\n",
       "    }\n",
       "\n",
       "    .dataframe thead tr:last-of-type th {\n",
       "        text-align: right;\n",
       "    }\n",
       "</style>\n",
       "<table border=\"1\" class=\"dataframe\">\n",
       "  <thead>\n",
       "    <tr>\n",
       "      <th></th>\n",
       "      <th colspan=\"5\" halign=\"left\">AGG</th>\n",
       "      <th colspan=\"5\" halign=\"left\">SPY</th>\n",
       "    </tr>\n",
       "    <tr>\n",
       "      <th></th>\n",
       "      <th>open</th>\n",
       "      <th>high</th>\n",
       "      <th>low</th>\n",
       "      <th>close</th>\n",
       "      <th>volume</th>\n",
       "      <th>open</th>\n",
       "      <th>high</th>\n",
       "      <th>low</th>\n",
       "      <th>close</th>\n",
       "      <th>volume</th>\n",
       "    </tr>\n",
       "    <tr>\n",
       "      <th>time</th>\n",
       "      <th></th>\n",
       "      <th></th>\n",
       "      <th></th>\n",
       "      <th></th>\n",
       "      <th></th>\n",
       "      <th></th>\n",
       "      <th></th>\n",
       "      <th></th>\n",
       "      <th></th>\n",
       "      <th></th>\n",
       "    </tr>\n",
       "  </thead>\n",
       "  <tbody>\n",
       "    <tr>\n",
       "      <th>2021-11-02 00:00:00-04:00</th>\n",
       "      <td>114.43</td>\n",
       "      <td>114.69</td>\n",
       "      <td>114.43</td>\n",
       "      <td>114.6</td>\n",
       "      <td>4487286</td>\n",
       "      <td>460.21</td>\n",
       "      <td>462.23</td>\n",
       "      <td>460.08</td>\n",
       "      <td>461.87</td>\n",
       "      <td>41914839</td>\n",
       "    </tr>\n",
       "  </tbody>\n",
       "</table>\n",
       "</div>"
      ],
      "text/plain": [
       "                              AGG                                     SPY  \\\n",
       "                             open    high     low  close   volume    open   \n",
       "time                                                                        \n",
       "2021-11-02 00:00:00-04:00  114.43  114.69  114.43  114.6  4487286  460.21   \n",
       "\n",
       "                                                             \n",
       "                             high     low   close    volume  \n",
       "time                                                         \n",
       "2021-11-02 00:00:00-04:00  462.23  460.08  461.87  41914839  "
      ]
     },
     "execution_count": 14,
     "metadata": {},
     "output_type": "execute_result"
    }
   ],
   "source": [
    "# Format current date as ISO format\n",
    "# YOUR CODE HERE!\n",
    "\n",
    "today = pd.Timestamp(\"2021-11-03\", tz=\"Australia/Sydney\").isoformat()\n",
    "\n",
    "# Set the tickers\n",
    "tickers = [\"AGG\", \"SPY\"]\n",
    "\n",
    "# Set timeframe to '1D' for Alpaca API\n",
    "timeframe = \"1D\"\n",
    "\n",
    "# Get current closing prices for SPY and AGG\n",
    "# YOUR CODE HERE!\n",
    "df_portfolio = alpaca.get_barset(\n",
    "    tickers,\n",
    "    timeframe,\n",
    "    start = today,\n",
    "    end = today\n",
    ").df\n",
    "\n",
    "# Preview DataFrame\n",
    "# YOUR CODE HERE!\n",
    "\n",
    "df_portfolio"
   ]
  },
  {
   "cell_type": "code",
   "execution_count": 15,
   "metadata": {},
   "outputs": [
    {
     "name": "stdout",
     "output_type": "stream",
     "text": [
      "Current AGG closing price: $114.6\n",
      "Current SPY closing price: $461.87\n"
     ]
    }
   ],
   "source": [
    "# Pick AGG and SPY close prices\n",
    "# YOUR CODE HERE!\n",
    "\n",
    "agg_close_price = float(df_portfolio[\"AGG\"][\"close\"])\n",
    "spy_close_price = float(df_portfolio[\"SPY\"][\"close\"])\n",
    "\n",
    "# Print AGG and SPY close prices\n",
    "print(f\"Current AGG closing price: ${agg_close_price}\")\n",
    "print(f\"Current SPY closing price: ${spy_close_price}\")"
   ]
  },
  {
   "cell_type": "code",
   "execution_count": 16,
   "metadata": {},
   "outputs": [
    {
     "name": "stdout",
     "output_type": "stream",
     "text": [
      "The current value of your 50 SPY shares is $23093.50\n",
      "The current value of your 200 AGG shares is $22920.00\n"
     ]
    }
   ],
   "source": [
    "# Compute the current value of shares\n",
    "# YOUR CODE HERE!\n",
    "my_spy_value = my_spy * spy_close_price\n",
    "my_agg_value = my_agg * agg_close_price\n",
    "\n",
    "# Print current value of share\n",
    "print(f\"The current value of your {my_spy} SPY shares is ${my_spy_value:0.2f}\")\n",
    "print(f\"The current value of your {my_agg} AGG shares is ${my_agg_value:0.2f}\")"
   ]
  },
  {
   "cell_type": "markdown",
   "metadata": {},
   "source": [
    "### Savings Health Analysis"
   ]
  },
  {
   "cell_type": "code",
   "execution_count": 17,
   "metadata": {},
   "outputs": [
    {
     "data": {
      "text/html": [
       "<div>\n",
       "<style scoped>\n",
       "    .dataframe tbody tr th:only-of-type {\n",
       "        vertical-align: middle;\n",
       "    }\n",
       "\n",
       "    .dataframe tbody tr th {\n",
       "        vertical-align: top;\n",
       "    }\n",
       "\n",
       "    .dataframe thead th {\n",
       "        text-align: right;\n",
       "    }\n",
       "</style>\n",
       "<table border=\"1\" class=\"dataframe\">\n",
       "  <thead>\n",
       "    <tr style=\"text-align: right;\">\n",
       "      <th></th>\n",
       "      <th>Fund</th>\n",
       "      <th>Amount</th>\n",
       "    </tr>\n",
       "  </thead>\n",
       "  <tbody>\n",
       "    <tr>\n",
       "      <th>0</th>\n",
       "      <td>Crypto</td>\n",
       "      <td>19385.986877</td>\n",
       "    </tr>\n",
       "    <tr>\n",
       "      <th>1</th>\n",
       "      <td>Shares</td>\n",
       "      <td>40616.500000</td>\n",
       "    </tr>\n",
       "  </tbody>\n",
       "</table>\n",
       "</div>"
      ],
      "text/plain": [
       "     Fund        Amount\n",
       "0  Crypto  19385.986877\n",
       "1  Shares  40616.500000"
      ]
     },
     "execution_count": 17,
     "metadata": {},
     "output_type": "execute_result"
    }
   ],
   "source": [
    "# Set monthly household income\n",
    "# YOUR CODE HERE!\n",
    "monthly_income = 12000\n",
    "\n",
    "# Create savings DataFrame\n",
    "# YOUR CODE HERE!\n",
    "data = {'Fund':['Crypto','Shares'],'Amount': [19385.986877, 40616.5000000]}\n",
    "df_savings = pd.DataFrame(data)\n",
    "\n",
    "# Display savings DataFrame\n",
    "df_savings"
   ]
  },
  {
   "cell_type": "code",
   "execution_count": 18,
   "metadata": {},
   "outputs": [
    {
     "data": {
      "text/plain": [
       "<matplotlib.axes._subplots.AxesSubplot at 0x2213d84d4c8>"
      ]
     },
     "execution_count": 18,
     "metadata": {},
     "output_type": "execute_result"
    },
    {
     "data": {
      "image/png": "[encoded data removed]",
      "text/plain": [
       "<Figure size 432x288 with 1 Axes>"
      ]
     },
     "metadata": {},
     "output_type": "display_data"
    }
   ],
   "source": [
    "# Plot savings pie chart\n",
    "# YOUR CODE HERE!\n",
    "df_savings.plot.pie(y='Amount')"
   ]
  },
  {
   "cell_type": "code",
   "execution_count": 19,
   "metadata": {},
   "outputs": [
    {
     "name": "stdout",
     "output_type": "stream",
     "text": [
      "Your total savings are $60002.49\n",
      "Congratulations, you have enough money in your fund!\n"
     ]
    }
   ],
   "source": [
    "# Set ideal emergency fund\n",
    "emergency_fund = monthly_income * 3\n",
    "\n",
    "# Calculate total amount of savings\n",
    "# YOUR CODE HERE!\n",
    "total_savings = df_savings['Amount'].sum()\n",
    "print(f\"Your total savings are ${total_savings.round(2)}\")\n",
    "\n",
    "# Validate saving health\n",
    "# YOUR CODE HERE!\n",
    "if total_savings > emergency_fund:\n",
    "    print(f\"Congratulations, you have enough money in your fund!\")\n",
    "elif total_savings == emergency_fund:\n",
    "    print(f\"Congratulations, you have reached your financial goal!\")\n",
    "elif total_savings < emergency_fund:\n",
    "    shortfall = total_savings-emergency_fund\n",
    "    print(f\"You need ${shortfall} to reach your financial goal\")"
   ]
  },
  {
   "cell_type": "markdown",
   "metadata": {},
   "source": [
    "## Part 2 - Retirement Planning\n",
    "\n",
    "### Monte Carlo Simulation"
   ]
  },
  {
   "cell_type": "code",
   "execution_count": 20,
   "metadata": {},
   "outputs": [],
   "source": [
    "# Set start and end dates of five years back from today.\n",
    "# Sample results may vary from the solution based on the time frame chosen\n",
    "start_date = pd.Timestamp('2015-08-07', tz='America/New_York').isoformat()\n",
    "end_date = pd.Timestamp('2020-08-07', tz='America/New_York').isoformat()"
   ]
  },
  {
   "cell_type": "code",
   "execution_count": 21,
   "metadata": {},
   "outputs": [
    {
     "data": {
      "text/html": [
       "<div>\n",
       "<style scoped>\n",
       "    .dataframe tbody tr th:only-of-type {\n",
       "        vertical-align: middle;\n",
       "    }\n",
       "\n",
       "    .dataframe tbody tr th {\n",
       "        vertical-align: top;\n",
       "    }\n",
       "\n",
       "    .dataframe thead tr th {\n",
       "        text-align: left;\n",
       "    }\n",
       "\n",
       "    .dataframe thead tr:last-of-type th {\n",
       "        text-align: right;\n",
       "    }\n",
       "</style>\n",
       "<table border=\"1\" class=\"dataframe\">\n",
       "  <thead>\n",
       "    <tr>\n",
       "      <th></th>\n",
       "      <th colspan=\"5\" halign=\"left\">AGG</th>\n",
       "      <th colspan=\"5\" halign=\"left\">SPY</th>\n",
       "    </tr>\n",
       "    <tr>\n",
       "      <th></th>\n",
       "      <th>open</th>\n",
       "      <th>high</th>\n",
       "      <th>low</th>\n",
       "      <th>close</th>\n",
       "      <th>volume</th>\n",
       "      <th>open</th>\n",
       "      <th>high</th>\n",
       "      <th>low</th>\n",
       "      <th>close</th>\n",
       "      <th>volume</th>\n",
       "    </tr>\n",
       "    <tr>\n",
       "      <th>time</th>\n",
       "      <th></th>\n",
       "      <th></th>\n",
       "      <th></th>\n",
       "      <th></th>\n",
       "      <th></th>\n",
       "      <th></th>\n",
       "      <th></th>\n",
       "      <th></th>\n",
       "      <th></th>\n",
       "      <th></th>\n",
       "    </tr>\n",
       "  </thead>\n",
       "  <tbody>\n",
       "    <tr>\n",
       "      <th>2016-08-17 00:00:00-04:00</th>\n",
       "      <td>112.45</td>\n",
       "      <td>112.6600</td>\n",
       "      <td>112.3600</td>\n",
       "      <td>112.580</td>\n",
       "      <td>3136737.0</td>\n",
       "      <td>NaN</td>\n",
       "      <td>NaN</td>\n",
       "      <td>NaN</td>\n",
       "      <td>NaN</td>\n",
       "      <td>NaN</td>\n",
       "    </tr>\n",
       "    <tr>\n",
       "      <th>2016-08-18 00:00:00-04:00</th>\n",
       "      <td>112.64</td>\n",
       "      <td>112.7799</td>\n",
       "      <td>112.5350</td>\n",
       "      <td>112.705</td>\n",
       "      <td>1814107.0</td>\n",
       "      <td>218.33</td>\n",
       "      <td>218.90</td>\n",
       "      <td>218.21</td>\n",
       "      <td>218.87</td>\n",
       "      <td>42850145.0</td>\n",
       "    </tr>\n",
       "    <tr>\n",
       "      <th>2016-08-19 00:00:00-04:00</th>\n",
       "      <td>112.53</td>\n",
       "      <td>112.6200</td>\n",
       "      <td>112.3900</td>\n",
       "      <td>112.490</td>\n",
       "      <td>2961016.0</td>\n",
       "      <td>218.31</td>\n",
       "      <td>218.75</td>\n",
       "      <td>217.74</td>\n",
       "      <td>218.57</td>\n",
       "      <td>52238224.0</td>\n",
       "    </tr>\n",
       "    <tr>\n",
       "      <th>2016-08-22 00:00:00-04:00</th>\n",
       "      <td>112.66</td>\n",
       "      <td>112.7380</td>\n",
       "      <td>112.5600</td>\n",
       "      <td>112.650</td>\n",
       "      <td>1647564.0</td>\n",
       "      <td>218.27</td>\n",
       "      <td>218.80</td>\n",
       "      <td>217.83</td>\n",
       "      <td>218.50</td>\n",
       "      <td>48628907.0</td>\n",
       "    </tr>\n",
       "    <tr>\n",
       "      <th>2016-08-23 00:00:00-04:00</th>\n",
       "      <td>112.78</td>\n",
       "      <td>112.8250</td>\n",
       "      <td>112.6301</td>\n",
       "      <td>112.690</td>\n",
       "      <td>2197732.0</td>\n",
       "      <td>219.25</td>\n",
       "      <td>219.60</td>\n",
       "      <td>218.90</td>\n",
       "      <td>218.94</td>\n",
       "      <td>41981207.0</td>\n",
       "    </tr>\n",
       "  </tbody>\n",
       "</table>\n",
       "</div>"
      ],
      "text/plain": [
       "                              AGG                                          \\\n",
       "                             open      high       low    close     volume   \n",
       "time                                                                        \n",
       "2016-08-17 00:00:00-04:00  112.45  112.6600  112.3600  112.580  3136737.0   \n",
       "2016-08-18 00:00:00-04:00  112.64  112.7799  112.5350  112.705  1814107.0   \n",
       "2016-08-19 00:00:00-04:00  112.53  112.6200  112.3900  112.490  2961016.0   \n",
       "2016-08-22 00:00:00-04:00  112.66  112.7380  112.5600  112.650  1647564.0   \n",
       "2016-08-23 00:00:00-04:00  112.78  112.8250  112.6301  112.690  2197732.0   \n",
       "\n",
       "                              SPY                                      \n",
       "                             open    high     low   close      volume  \n",
       "time                                                                   \n",
       "2016-08-17 00:00:00-04:00     NaN     NaN     NaN     NaN         NaN  \n",
       "2016-08-18 00:00:00-04:00  218.33  218.90  218.21  218.87  42850145.0  \n",
       "2016-08-19 00:00:00-04:00  218.31  218.75  217.74  218.57  52238224.0  \n",
       "2016-08-22 00:00:00-04:00  218.27  218.80  217.83  218.50  48628907.0  \n",
       "2016-08-23 00:00:00-04:00  219.25  219.60  218.90  218.94  41981207.0  "
      ]
     },
     "execution_count": 21,
     "metadata": {},
     "output_type": "execute_result"
    }
   ],
   "source": [
    "# Get 5 years' worth of historical data for SPY and AGG\n",
    "# YOUR CODE HERE!\n",
    "tickers = [\"SPY\", \"AGG\"]\n",
    "df_stock_data = alpaca.get_barset(\n",
    "    tickers,\n",
    "    timeframe,\n",
    "    start=start_date,\n",
    "    end=end_date,\n",
    "    limit=1000\n",
    ").df\n",
    "\n",
    "# Display sample data\n",
    "df_stock_data.head()"
   ]
  },
  {
   "cell_type": "code",
   "execution_count": 22,
   "metadata": {},
   "outputs": [],
   "source": [
    "# Configuring a Monte Carlo simulation to forecast 30 years cumulative returns\n",
    "# YOUR CODE HERE!\n",
    "\n",
    "MC_even_dist = MCSimulation(\n",
    "    portfolio_data = df_stock_data,\n",
    "    weights = [0.6,0.4],\n",
    "    num_simulation = 500,\n",
    "    num_trading_days = 252*30\n",
    ")"
   ]
  },
  {
   "cell_type": "code",
   "execution_count": 23,
   "metadata": {},
   "outputs": [
    {
     "data": {
      "text/html": [
       "<div>\n",
       "<style scoped>\n",
       "    .dataframe tbody tr th:only-of-type {\n",
       "        vertical-align: middle;\n",
       "    }\n",
       "\n",
       "    .dataframe tbody tr th {\n",
       "        vertical-align: top;\n",
       "    }\n",
       "\n",
       "    .dataframe thead tr th {\n",
       "        text-align: left;\n",
       "    }\n",
       "\n",
       "    .dataframe thead tr:last-of-type th {\n",
       "        text-align: right;\n",
       "    }\n",
       "</style>\n",
       "<table border=\"1\" class=\"dataframe\">\n",
       "  <thead>\n",
       "    <tr>\n",
       "      <th></th>\n",
       "      <th colspan=\"6\" halign=\"left\">AGG</th>\n",
       "      <th colspan=\"6\" halign=\"left\">SPY</th>\n",
       "    </tr>\n",
       "    <tr>\n",
       "      <th></th>\n",
       "      <th>open</th>\n",
       "      <th>high</th>\n",
       "      <th>low</th>\n",
       "      <th>close</th>\n",
       "      <th>volume</th>\n",
       "      <th>daily_return</th>\n",
       "      <th>open</th>\n",
       "      <th>high</th>\n",
       "      <th>low</th>\n",
       "      <th>close</th>\n",
       "      <th>volume</th>\n",
       "      <th>daily_return</th>\n",
       "    </tr>\n",
       "    <tr>\n",
       "      <th>time</th>\n",
       "      <th></th>\n",
       "      <th></th>\n",
       "      <th></th>\n",
       "      <th></th>\n",
       "      <th></th>\n",
       "      <th></th>\n",
       "      <th></th>\n",
       "      <th></th>\n",
       "      <th></th>\n",
       "      <th></th>\n",
       "      <th></th>\n",
       "      <th></th>\n",
       "    </tr>\n",
       "  </thead>\n",
       "  <tbody>\n",
       "    <tr>\n",
       "      <th>2016-08-17 00:00:00-04:00</th>\n",
       "      <td>112.45</td>\n",
       "      <td>112.6600</td>\n",
       "      <td>112.3600</td>\n",
       "      <td>112.580</td>\n",
       "      <td>3136737.0</td>\n",
       "      <td>NaN</td>\n",
       "      <td>NaN</td>\n",
       "      <td>NaN</td>\n",
       "      <td>NaN</td>\n",
       "      <td>NaN</td>\n",
       "      <td>NaN</td>\n",
       "      <td>NaN</td>\n",
       "    </tr>\n",
       "    <tr>\n",
       "      <th>2016-08-18 00:00:00-04:00</th>\n",
       "      <td>112.64</td>\n",
       "      <td>112.7799</td>\n",
       "      <td>112.5350</td>\n",
       "      <td>112.705</td>\n",
       "      <td>1814107.0</td>\n",
       "      <td>0.001110</td>\n",
       "      <td>218.33</td>\n",
       "      <td>218.90</td>\n",
       "      <td>218.21</td>\n",
       "      <td>218.87</td>\n",
       "      <td>42850145.0</td>\n",
       "      <td>NaN</td>\n",
       "    </tr>\n",
       "    <tr>\n",
       "      <th>2016-08-19 00:00:00-04:00</th>\n",
       "      <td>112.53</td>\n",
       "      <td>112.6200</td>\n",
       "      <td>112.3900</td>\n",
       "      <td>112.490</td>\n",
       "      <td>2961016.0</td>\n",
       "      <td>-0.001908</td>\n",
       "      <td>218.31</td>\n",
       "      <td>218.75</td>\n",
       "      <td>217.74</td>\n",
       "      <td>218.57</td>\n",
       "      <td>52238224.0</td>\n",
       "      <td>-0.001371</td>\n",
       "    </tr>\n",
       "    <tr>\n",
       "      <th>2016-08-22 00:00:00-04:00</th>\n",
       "      <td>112.66</td>\n",
       "      <td>112.7380</td>\n",
       "      <td>112.5600</td>\n",
       "      <td>112.650</td>\n",
       "      <td>1647564.0</td>\n",
       "      <td>0.001422</td>\n",
       "      <td>218.27</td>\n",
       "      <td>218.80</td>\n",
       "      <td>217.83</td>\n",
       "      <td>218.50</td>\n",
       "      <td>48628907.0</td>\n",
       "      <td>-0.000320</td>\n",
       "    </tr>\n",
       "    <tr>\n",
       "      <th>2016-08-23 00:00:00-04:00</th>\n",
       "      <td>112.78</td>\n",
       "      <td>112.8250</td>\n",
       "      <td>112.6301</td>\n",
       "      <td>112.690</td>\n",
       "      <td>2197732.0</td>\n",
       "      <td>0.000355</td>\n",
       "      <td>219.25</td>\n",
       "      <td>219.60</td>\n",
       "      <td>218.90</td>\n",
       "      <td>218.94</td>\n",
       "      <td>41981207.0</td>\n",
       "      <td>0.002014</td>\n",
       "    </tr>\n",
       "  </tbody>\n",
       "</table>\n",
       "</div>"
      ],
      "text/plain": [
       "                              AGG                                          \\\n",
       "                             open      high       low    close     volume   \n",
       "time                                                                        \n",
       "2016-08-17 00:00:00-04:00  112.45  112.6600  112.3600  112.580  3136737.0   \n",
       "2016-08-18 00:00:00-04:00  112.64  112.7799  112.5350  112.705  1814107.0   \n",
       "2016-08-19 00:00:00-04:00  112.53  112.6200  112.3900  112.490  2961016.0   \n",
       "2016-08-22 00:00:00-04:00  112.66  112.7380  112.5600  112.650  1647564.0   \n",
       "2016-08-23 00:00:00-04:00  112.78  112.8250  112.6301  112.690  2197732.0   \n",
       "\n",
       "                                           SPY                          \\\n",
       "                          daily_return    open    high     low   close   \n",
       "time                                                                     \n",
       "2016-08-17 00:00:00-04:00          NaN     NaN     NaN     NaN     NaN   \n",
       "2016-08-18 00:00:00-04:00     0.001110  218.33  218.90  218.21  218.87   \n",
       "2016-08-19 00:00:00-04:00    -0.001908  218.31  218.75  217.74  218.57   \n",
       "2016-08-22 00:00:00-04:00     0.001422  218.27  218.80  217.83  218.50   \n",
       "2016-08-23 00:00:00-04:00     0.000355  219.25  219.60  218.90  218.94   \n",
       "\n",
       "                                                    \n",
       "                               volume daily_return  \n",
       "time                                                \n",
       "2016-08-17 00:00:00-04:00         NaN          NaN  \n",
       "2016-08-18 00:00:00-04:00  42850145.0          NaN  \n",
       "2016-08-19 00:00:00-04:00  52238224.0    -0.001371  \n",
       "2016-08-22 00:00:00-04:00  48628907.0    -0.000320  \n",
       "2016-08-23 00:00:00-04:00  41981207.0     0.002014  "
      ]
     },
     "execution_count": 23,
     "metadata": {},
     "output_type": "execute_result"
    }
   ],
   "source": [
    "# Printing the simulation input data\n",
    "# YOUR CODE HERE!\n",
    "MC_even_dist.portfolio_data.head()"
   ]
  },
  {
   "cell_type": "code",
   "execution_count": 24,
   "metadata": {},
   "outputs": [
    {
     "name": "stdout",
     "output_type": "stream",
     "text": [
      "Running Monte Carlo simulation number 0.\n",
      "Running Monte Carlo simulation number 10.\n",
      "Running Monte Carlo simulation number 20.\n",
      "Running Monte Carlo simulation number 30.\n",
      "Running Monte Carlo simulation number 40.\n",
      "Running Monte Carlo simulation number 50.\n",
      "Running Monte Carlo simulation number 60.\n",
      "Running Monte Carlo simulation number 70.\n",
      "Running Monte Carlo simulation number 80.\n",
      "Running Monte Carlo simulation number 90.\n",
      "Running Monte Carlo simulation number 100.\n",
      "Running Monte Carlo simulation number 110.\n",
      "Running Monte Carlo simulation number 120.\n",
      "Running Monte Carlo simulation number 130.\n",
      "Running Monte Carlo simulation number 140.\n",
      "Running Monte Carlo simulation number 150.\n",
      "Running Monte Carlo simulation number 160.\n",
      "Running Monte Carlo simulation number 170.\n",
      "Running Monte Carlo simulation number 180.\n",
      "Running Monte Carlo simulation number 190.\n",
      "Running Monte Carlo simulation number 200.\n",
      "Running Monte Carlo simulation number 210.\n",
      "Running Monte Carlo simulation number 220.\n",
      "Running Monte Carlo simulation number 230.\n",
      "Running Monte Carlo simulation number 240.\n",
      "Running Monte Carlo simulation number 250.\n",
      "Running Monte Carlo simulation number 260.\n",
      "Running Monte Carlo simulation number 270.\n",
      "Running Monte Carlo simulation number 280.\n",
      "Running Monte Carlo simulation number 290.\n",
      "Running Monte Carlo simulation number 300.\n",
      "Running Monte Carlo simulation number 310.\n",
      "Running Monte Carlo simulation number 320.\n",
      "Running Monte Carlo simulation number 330.\n",
      "Running Monte Carlo simulation number 340.\n",
      "Running Monte Carlo simulation number 350.\n",
      "Running Monte Carlo simulation number 360.\n",
      "Running Monte Carlo simulation number 370.\n",
      "Running Monte Carlo simulation number 380.\n",
      "Running Monte Carlo simulation number 390.\n",
      "Running Monte Carlo simulation number 400.\n",
      "Running Monte Carlo simulation number 410.\n",
      "Running Monte Carlo simulation number 420.\n",
      "Running Monte Carlo simulation number 430.\n",
      "Running Monte Carlo simulation number 440.\n",
      "Running Monte Carlo simulation number 450.\n",
      "Running Monte Carlo simulation number 460.\n",
      "Running Monte Carlo simulation number 470.\n",
      "Running Monte Carlo simulation number 480.\n",
      "Running Monte Carlo simulation number 490.\n"
     ]
    },
    {
     "data": {
      "text/html": [
       "<div>\n",
       "<style scoped>\n",
       "    .dataframe tbody tr th:only-of-type {\n",
       "        vertical-align: middle;\n",
       "    }\n",
       "\n",
       "    .dataframe tbody tr th {\n",
       "        vertical-align: top;\n",
       "    }\n",
       "\n",
       "    .dataframe thead th {\n",
       "        text-align: right;\n",
       "    }\n",
       "</style>\n",
       "<table border=\"1\" class=\"dataframe\">\n",
       "  <thead>\n",
       "    <tr style=\"text-align: right;\">\n",
       "      <th></th>\n",
       "      <th>0</th>\n",
       "      <th>1</th>\n",
       "      <th>2</th>\n",
       "      <th>3</th>\n",
       "      <th>4</th>\n",
       "      <th>5</th>\n",
       "      <th>6</th>\n",
       "      <th>7</th>\n",
       "      <th>8</th>\n",
       "      <th>9</th>\n",
       "      <th>...</th>\n",
       "      <th>490</th>\n",
       "      <th>491</th>\n",
       "      <th>492</th>\n",
       "      <th>493</th>\n",
       "      <th>494</th>\n",
       "      <th>495</th>\n",
       "      <th>496</th>\n",
       "      <th>497</th>\n",
       "      <th>498</th>\n",
       "      <th>499</th>\n",
       "    </tr>\n",
       "  </thead>\n",
       "  <tbody>\n",
       "    <tr>\n",
       "      <th>0</th>\n",
       "      <td>1.000000</td>\n",
       "      <td>1.000000</td>\n",
       "      <td>1.000000</td>\n",
       "      <td>1.000000</td>\n",
       "      <td>1.000000</td>\n",
       "      <td>1.000000</td>\n",
       "      <td>1.000000</td>\n",
       "      <td>1.000000</td>\n",
       "      <td>1.000000</td>\n",
       "      <td>1.000000</td>\n",
       "      <td>...</td>\n",
       "      <td>1.000000</td>\n",
       "      <td>1.000000</td>\n",
       "      <td>1.000000</td>\n",
       "      <td>1.000000</td>\n",
       "      <td>1.000000</td>\n",
       "      <td>1.000000</td>\n",
       "      <td>1.000000</td>\n",
       "      <td>1.000000</td>\n",
       "      <td>1.000000</td>\n",
       "      <td>1.000000</td>\n",
       "    </tr>\n",
       "    <tr>\n",
       "      <th>1</th>\n",
       "      <td>0.995693</td>\n",
       "      <td>1.002103</td>\n",
       "      <td>0.999726</td>\n",
       "      <td>0.997055</td>\n",
       "      <td>0.993982</td>\n",
       "      <td>0.997031</td>\n",
       "      <td>1.003252</td>\n",
       "      <td>0.989246</td>\n",
       "      <td>0.999353</td>\n",
       "      <td>1.003240</td>\n",
       "      <td>...</td>\n",
       "      <td>0.989145</td>\n",
       "      <td>1.000815</td>\n",
       "      <td>1.002569</td>\n",
       "      <td>1.005010</td>\n",
       "      <td>0.992033</td>\n",
       "      <td>1.007415</td>\n",
       "      <td>1.003548</td>\n",
       "      <td>0.995052</td>\n",
       "      <td>0.998174</td>\n",
       "      <td>1.001375</td>\n",
       "    </tr>\n",
       "    <tr>\n",
       "      <th>2</th>\n",
       "      <td>0.997711</td>\n",
       "      <td>0.995337</td>\n",
       "      <td>0.996874</td>\n",
       "      <td>0.994488</td>\n",
       "      <td>0.986198</td>\n",
       "      <td>1.002926</td>\n",
       "      <td>1.001547</td>\n",
       "      <td>0.989030</td>\n",
       "      <td>0.996599</td>\n",
       "      <td>1.014476</td>\n",
       "      <td>...</td>\n",
       "      <td>0.992716</td>\n",
       "      <td>1.001551</td>\n",
       "      <td>1.006473</td>\n",
       "      <td>1.006307</td>\n",
       "      <td>0.989498</td>\n",
       "      <td>1.004318</td>\n",
       "      <td>1.000035</td>\n",
       "      <td>0.990000</td>\n",
       "      <td>0.992024</td>\n",
       "      <td>0.993714</td>\n",
       "    </tr>\n",
       "    <tr>\n",
       "      <th>3</th>\n",
       "      <td>1.002597</td>\n",
       "      <td>1.003063</td>\n",
       "      <td>0.998213</td>\n",
       "      <td>0.995317</td>\n",
       "      <td>0.978704</td>\n",
       "      <td>0.992332</td>\n",
       "      <td>1.002428</td>\n",
       "      <td>0.982048</td>\n",
       "      <td>0.994443</td>\n",
       "      <td>1.009608</td>\n",
       "      <td>...</td>\n",
       "      <td>0.990474</td>\n",
       "      <td>1.002436</td>\n",
       "      <td>0.998755</td>\n",
       "      <td>1.013353</td>\n",
       "      <td>0.988036</td>\n",
       "      <td>1.017326</td>\n",
       "      <td>0.990113</td>\n",
       "      <td>0.972268</td>\n",
       "      <td>1.002595</td>\n",
       "      <td>0.993568</td>\n",
       "    </tr>\n",
       "    <tr>\n",
       "      <th>4</th>\n",
       "      <td>1.008841</td>\n",
       "      <td>1.009720</td>\n",
       "      <td>1.006439</td>\n",
       "      <td>0.997043</td>\n",
       "      <td>0.985289</td>\n",
       "      <td>0.998973</td>\n",
       "      <td>1.003260</td>\n",
       "      <td>0.987385</td>\n",
       "      <td>1.001744</td>\n",
       "      <td>1.006797</td>\n",
       "      <td>...</td>\n",
       "      <td>0.992043</td>\n",
       "      <td>0.998711</td>\n",
       "      <td>1.001035</td>\n",
       "      <td>1.019854</td>\n",
       "      <td>0.997406</td>\n",
       "      <td>1.007654</td>\n",
       "      <td>0.981551</td>\n",
       "      <td>0.968604</td>\n",
       "      <td>0.998844</td>\n",
       "      <td>0.988735</td>\n",
       "    </tr>\n",
       "    <tr>\n",
       "      <th>...</th>\n",
       "      <td>...</td>\n",
       "      <td>...</td>\n",
       "      <td>...</td>\n",
       "      <td>...</td>\n",
       "      <td>...</td>\n",
       "      <td>...</td>\n",
       "      <td>...</td>\n",
       "      <td>...</td>\n",
       "      <td>...</td>\n",
       "      <td>...</td>\n",
       "      <td>...</td>\n",
       "      <td>...</td>\n",
       "      <td>...</td>\n",
       "      <td>...</td>\n",
       "      <td>...</td>\n",
       "      <td>...</td>\n",
       "      <td>...</td>\n",
       "      <td>...</td>\n",
       "      <td>...</td>\n",
       "      <td>...</td>\n",
       "      <td>...</td>\n",
       "    </tr>\n",
       "    <tr>\n",
       "      <th>7556</th>\n",
       "      <td>5.016567</td>\n",
       "      <td>5.514348</td>\n",
       "      <td>9.408886</td>\n",
       "      <td>5.316099</td>\n",
       "      <td>4.285612</td>\n",
       "      <td>2.927572</td>\n",
       "      <td>5.191213</td>\n",
       "      <td>8.755598</td>\n",
       "      <td>3.376085</td>\n",
       "      <td>3.508056</td>\n",
       "      <td>...</td>\n",
       "      <td>10.422871</td>\n",
       "      <td>4.005003</td>\n",
       "      <td>7.354846</td>\n",
       "      <td>4.747489</td>\n",
       "      <td>4.198409</td>\n",
       "      <td>4.799964</td>\n",
       "      <td>3.149434</td>\n",
       "      <td>3.118790</td>\n",
       "      <td>4.952882</td>\n",
       "      <td>6.375028</td>\n",
       "    </tr>\n",
       "    <tr>\n",
       "      <th>7557</th>\n",
       "      <td>5.004490</td>\n",
       "      <td>5.569563</td>\n",
       "      <td>9.434228</td>\n",
       "      <td>5.316262</td>\n",
       "      <td>4.286046</td>\n",
       "      <td>2.913199</td>\n",
       "      <td>5.198636</td>\n",
       "      <td>8.749350</td>\n",
       "      <td>3.391516</td>\n",
       "      <td>3.485624</td>\n",
       "      <td>...</td>\n",
       "      <td>10.435690</td>\n",
       "      <td>4.019582</td>\n",
       "      <td>7.393651</td>\n",
       "      <td>4.766398</td>\n",
       "      <td>4.220733</td>\n",
       "      <td>4.790568</td>\n",
       "      <td>3.176208</td>\n",
       "      <td>3.108424</td>\n",
       "      <td>4.937700</td>\n",
       "      <td>6.414788</td>\n",
       "    </tr>\n",
       "    <tr>\n",
       "      <th>7558</th>\n",
       "      <td>5.000559</td>\n",
       "      <td>5.486553</td>\n",
       "      <td>9.465768</td>\n",
       "      <td>5.340957</td>\n",
       "      <td>4.326734</td>\n",
       "      <td>2.914835</td>\n",
       "      <td>5.217927</td>\n",
       "      <td>8.751301</td>\n",
       "      <td>3.360017</td>\n",
       "      <td>3.478075</td>\n",
       "      <td>...</td>\n",
       "      <td>10.500608</td>\n",
       "      <td>4.027616</td>\n",
       "      <td>7.418102</td>\n",
       "      <td>4.790728</td>\n",
       "      <td>4.187067</td>\n",
       "      <td>4.779636</td>\n",
       "      <td>3.186942</td>\n",
       "      <td>3.090483</td>\n",
       "      <td>4.935145</td>\n",
       "      <td>6.380681</td>\n",
       "    </tr>\n",
       "    <tr>\n",
       "      <th>7559</th>\n",
       "      <td>4.970438</td>\n",
       "      <td>5.548963</td>\n",
       "      <td>9.495745</td>\n",
       "      <td>5.300588</td>\n",
       "      <td>4.353603</td>\n",
       "      <td>2.911414</td>\n",
       "      <td>5.279899</td>\n",
       "      <td>8.726449</td>\n",
       "      <td>3.382680</td>\n",
       "      <td>3.481202</td>\n",
       "      <td>...</td>\n",
       "      <td>10.542748</td>\n",
       "      <td>4.024362</td>\n",
       "      <td>7.436669</td>\n",
       "      <td>4.798909</td>\n",
       "      <td>4.175755</td>\n",
       "      <td>4.802584</td>\n",
       "      <td>3.206012</td>\n",
       "      <td>3.100274</td>\n",
       "      <td>4.911740</td>\n",
       "      <td>6.355197</td>\n",
       "    </tr>\n",
       "    <tr>\n",
       "      <th>7560</th>\n",
       "      <td>4.978921</td>\n",
       "      <td>5.544285</td>\n",
       "      <td>9.608754</td>\n",
       "      <td>5.309998</td>\n",
       "      <td>4.358080</td>\n",
       "      <td>2.917028</td>\n",
       "      <td>5.327847</td>\n",
       "      <td>8.745682</td>\n",
       "      <td>3.411930</td>\n",
       "      <td>3.480038</td>\n",
       "      <td>...</td>\n",
       "      <td>10.485728</td>\n",
       "      <td>4.009483</td>\n",
       "      <td>7.440142</td>\n",
       "      <td>4.749857</td>\n",
       "      <td>4.193575</td>\n",
       "      <td>4.829983</td>\n",
       "      <td>3.200545</td>\n",
       "      <td>3.086818</td>\n",
       "      <td>4.912573</td>\n",
       "      <td>6.364723</td>\n",
       "    </tr>\n",
       "  </tbody>\n",
       "</table>\n",
       "<p>7561 rows × 500 columns</p>\n",
       "</div>"
      ],
      "text/plain": [
       "           0         1         2         3         4         5         6    \\\n",
       "0     1.000000  1.000000  1.000000  1.000000  1.000000  1.000000  1.000000   \n",
       "1     0.995693  1.002103  0.999726  0.997055  0.993982  0.997031  1.003252   \n",
       "2     0.997711  0.995337  0.996874  0.994488  0.986198  1.002926  1.001547   \n",
       "3     1.002597  1.003063  0.998213  0.995317  0.978704  0.992332  1.002428   \n",
       "4     1.008841  1.009720  1.006439  0.997043  0.985289  0.998973  1.003260   \n",
       "...        ...       ...       ...       ...       ...       ...       ...   \n",
       "7556  5.016567  5.514348  9.408886  5.316099  4.285612  2.927572  5.191213   \n",
       "7557  5.004490  5.569563  9.434228  5.316262  4.286046  2.913199  5.198636   \n",
       "7558  5.000559  5.486553  9.465768  5.340957  4.326734  2.914835  5.217927   \n",
       "7559  4.970438  5.548963  9.495745  5.300588  4.353603  2.911414  5.279899   \n",
       "7560  4.978921  5.544285  9.608754  5.309998  4.358080  2.917028  5.327847   \n",
       "\n",
       "           7         8         9    ...        490       491       492  \\\n",
       "0     1.000000  1.000000  1.000000  ...   1.000000  1.000000  1.000000   \n",
       "1     0.989246  0.999353  1.003240  ...   0.989145  1.000815  1.002569   \n",
       "2     0.989030  0.996599  1.014476  ...   0.992716  1.001551  1.006473   \n",
       "3     0.982048  0.994443  1.009608  ...   0.990474  1.002436  0.998755   \n",
       "4     0.987385  1.001744  1.006797  ...   0.992043  0.998711  1.001035   \n",
       "...        ...       ...       ...  ...        ...       ...       ...   \n",
       "7556  8.755598  3.376085  3.508056  ...  10.422871  4.005003  7.354846   \n",
       "7557  8.749350  3.391516  3.485624  ...  10.435690  4.019582  7.393651   \n",
       "7558  8.751301  3.360017  3.478075  ...  10.500608  4.027616  7.418102   \n",
       "7559  8.726449  3.382680  3.481202  ...  10.542748  4.024362  7.436669   \n",
       "7560  8.745682  3.411930  3.480038  ...  10.485728  4.009483  7.440142   \n",
       "\n",
       "           493       494       495       496       497       498       499  \n",
       "0     1.000000  1.000000  1.000000  1.000000  1.000000  1.000000  1.000000  \n",
       "1     1.005010  0.992033  1.007415  1.003548  0.995052  0.998174  1.001375  \n",
       "2     1.006307  0.989498  1.004318  1.000035  0.990000  0.992024  0.993714  \n",
       "3     1.013353  0.988036  1.017326  0.990113  0.972268  1.002595  0.993568  \n",
       "4     1.019854  0.997406  1.007654  0.981551  0.968604  0.998844  0.988735  \n",
       "...        ...       ...       ...       ...       ...       ...       ...  \n",
       "7556  4.747489  4.198409  4.799964  3.149434  3.118790  4.952882  6.375028  \n",
       "7557  4.766398  4.220733  4.790568  3.176208  3.108424  4.937700  6.414788  \n",
       "7558  4.790728  4.187067  4.779636  3.186942  3.090483  4.935145  6.380681  \n",
       "7559  4.798909  4.175755  4.802584  3.206012  3.100274  4.911740  6.355197  \n",
       "7560  4.749857  4.193575  4.829983  3.200545  3.086818  4.912573  6.364723  \n",
       "\n",
       "[7561 rows x 500 columns]"
      ]
     },
     "execution_count": 24,
     "metadata": {},
     "output_type": "execute_result"
    }
   ],
   "source": [
    "# Running a Monte Carlo simulation to forecast 30 years cumulative returns\n",
    "# YOUR CODE HERE!\n",
    "MC_even_dist.calc_cumulative_return()"
   ]
  },
  {
   "cell_type": "code",
   "execution_count": 25,
   "metadata": {},
   "outputs": [
    {
     "data": {
      "image/png": "[encoded data removed]",
      "text/plain": [
       "<Figure size 432x288 with 1 Axes>"
      ]
     },
     "metadata": {
      "needs_background": "light"
     },
     "output_type": "display_data"
    }
   ],
   "source": [
    "# Plot simulation outcomes\n",
    "# YOUR CODE HERE!\n",
    "line_plot = MC_even_dist.plot_simulation()"
   ]
  },
  {
   "cell_type": "code",
   "execution_count": 26,
   "metadata": {},
   "outputs": [
    {
     "data": {
      "image/png": "[encoded data removed]",
      "text/plain": [
       "<Figure size 432x288 with 1 Axes>"
      ]
     },
     "metadata": {
      "needs_background": "light"
     },
     "output_type": "display_data"
    }
   ],
   "source": [
    "# Plot probability distribution and confidence intervals\n",
    "# YOUR CODE HERE!\n",
    "dist_plot = MC_even_dist.plot_distribution()"
   ]
  },
  {
   "cell_type": "markdown",
   "metadata": {},
   "source": [
    "### Retirement Analysis"
   ]
  },
  {
   "cell_type": "code",
   "execution_count": 27,
   "metadata": {},
   "outputs": [
    {
     "name": "stdout",
     "output_type": "stream",
     "text": [
      "count           500.000000\n",
      "mean              5.866473\n",
      "std               2.979212\n",
      "min               1.351989\n",
      "25%               3.754205\n",
      "50%               5.234041\n",
      "75%               7.273863\n",
      "max              27.959805\n",
      "95% CI Lower      1.964204\n",
      "95% CI Upper     12.884873\n",
      "Name: 7560, dtype: float64\n"
     ]
    }
   ],
   "source": [
    "# Fetch summary statistics from the Monte Carlo simulation results\n",
    "# YOUR CODE HERE!\n",
    "even_tbl = MC_even_dist.summarize_cumulative_return()\n",
    "\n",
    "# Print summary statistics\n",
    "# YOUR CODE HERE!\n",
    "print(even_tbl)"
   ]
  },
  {
   "cell_type": "markdown",
   "metadata": {},
   "source": [
    "### Calculate the expected portfolio return at the 95% lower and upper confidence intervals based on a `$20,000` initial investment."
   ]
  },
  {
   "cell_type": "code",
   "execution_count": 32,
   "metadata": {},
   "outputs": [
    {
     "name": "stdout",
     "output_type": "stream",
     "text": [
      "There is a 95% chance that an initial investment of $20000 in the portfolio over the next 30 years will end within in the range of $39284.07 and $257697.45\n"
     ]
    }
   ],
   "source": [
    "# Set initial investment\n",
    "initial_investment = 20000\n",
    "\n",
    "# Use the lower and upper `95%` confidence intervals to calculate the range of the possible outcomes of our $20,000\n",
    "# YOUR CODE HERE!\n",
    "\n",
    "ci_lower = round(even_tbl[8]*20000,2)\n",
    "ci_upper = round(even_tbl[9]*20000,2)\n",
    "\n",
    "# Print results\n",
    "print(f\"There is a 95% chance that an initial investment of ${initial_investment} in the portfolio\"\n",
    "      f\" over the next 30 years will end within in the range of\"\n",
    "      f\" ${ci_lower} and ${ci_upper}\")"
   ]
  },
  {
   "cell_type": "markdown",
   "metadata": {},
   "source": [
    "### Calculate the expected portfolio return at the `95%` lower and upper confidence intervals based on a `50%` increase in the initial investment."
   ]
  },
  {
   "cell_type": "code",
   "execution_count": 35,
   "metadata": {},
   "outputs": [
    {
     "name": "stdout",
     "output_type": "stream",
     "text": [
      "There is a 95% chance that an initial investment of $30000.0 in the portfolio over the next 30 years will end within in the range of $58926.11 and $386546.18\n"
     ]
    }
   ],
   "source": [
    "# Set initial investment\n",
    "initial_investment = 20000 * 1.5\n",
    "\n",
    "# Use the lower and upper `95%` confidence intervals to calculate the range of the possible outcomes of our $30,000\n",
    "# YOUR CODE HERE!\n",
    "\n",
    "ci_lower = round(even_tbl[8]*initial_investment,2)\n",
    "ci_upper = round(even_tbl[9]*initial_investment,2)\n",
    "\n",
    "# Print results\n",
    "print(f\"There is a 95% chance that an initial investment of ${initial_investment} in the portfolio\"\n",
    "      f\" over the next 30 years will end within in the range of\"\n",
    "      f\" ${ci_lower} and ${ci_upper}\")"
   ]
  },
  {
   "cell_type": "markdown",
   "metadata": {},
   "source": [
    "## Optional Challenge - Early Retirement\n",
    "\n",
    "\n",
    "### Five Years Retirement Option"
   ]
  },
  {
   "cell_type": "code",
   "execution_count": null,
   "metadata": {},
   "outputs": [],
   "source": [
    "# Configuring a Monte Carlo simulation to forecast 5 years cumulative returns\n",
    "# YOUR CODE HERE!"
   ]
  },
  {
   "cell_type": "code",
   "execution_count": null,
   "metadata": {},
   "outputs": [],
   "source": [
    "# Running a Monte Carlo simulation to forecast 5 years cumulative returns\n",
    "# YOUR CODE HERE!"
   ]
  },
  {
   "cell_type": "code",
   "execution_count": null,
   "metadata": {},
   "outputs": [],
   "source": [
    "# Plot simulation outcomes\n",
    "# YOUR CODE HERE!"
   ]
  },
  {
   "cell_type": "code",
   "execution_count": null,
   "metadata": {},
   "outputs": [],
   "source": [
    "# Plot probability distribution and confidence intervals\n",
    "# YOUR CODE HERE!"
   ]
  },
  {
   "cell_type": "code",
   "execution_count": null,
   "metadata": {},
   "outputs": [],
   "source": [
    "# Fetch summary statistics from the Monte Carlo simulation results\n",
    "# YOUR CODE HERE!\n",
    "\n",
    "# Print summary statistics\n",
    "# YOUR CODE HERE!"
   ]
  },
  {
   "cell_type": "code",
   "execution_count": null,
   "metadata": {},
   "outputs": [],
   "source": [
    "# Set initial investment\n",
    "# YOUR CODE HERE!\n",
    "\n",
    "# Use the lower and upper `95%` confidence intervals to calculate the range of the possible outcomes of our $60,000\n",
    "# YOUR CODE HERE!\n",
    "\n",
    "# Print results\n",
    "print(f\"There is a 95% chance that an initial investment of ${initial_investment} in the portfolio\"\n",
    "      f\" over the next 5 years will end within in the range of\"\n",
    "      f\" ${ci_lower_five} and ${ci_upper_five}\")"
   ]
  },
  {
   "cell_type": "markdown",
   "metadata": {},
   "source": [
    "### Ten Years Retirement Option"
   ]
  },
  {
   "cell_type": "code",
   "execution_count": null,
   "metadata": {},
   "outputs": [],
   "source": [
    "# Configuring a Monte Carlo simulation to forecast 10 years cumulative returns\n",
    "# YOUR CODE HERE!"
   ]
  },
  {
   "cell_type": "code",
   "execution_count": null,
   "metadata": {},
   "outputs": [],
   "source": [
    "# Running a Monte Carlo simulation to forecast 10 years cumulative returns\n",
    "# YOUR CODE HERE!"
   ]
  },
  {
   "cell_type": "code",
   "execution_count": null,
   "metadata": {},
   "outputs": [],
   "source": [
    "# Plot simulation outcomes\n",
    "# YOUR CODE HERE!"
   ]
  },
  {
   "cell_type": "code",
   "execution_count": null,
   "metadata": {},
   "outputs": [],
   "source": [
    "# Plot probability distribution and confidence intervals\n",
    "# YOUR CODE HERE!"
   ]
  },
  {
   "cell_type": "code",
   "execution_count": null,
   "metadata": {},
   "outputs": [],
   "source": [
    "# Fetch summary statistics from the Monte Carlo simulation results\n",
    "# YOUR CODE HERE!\n",
    "\n",
    "# Print summary statistics\n",
    "# YOUR CODE HERE!"
   ]
  },
  {
   "cell_type": "code",
   "execution_count": null,
   "metadata": {},
   "outputs": [],
   "source": [
    "# Set initial investment\n",
    "# YOUR CODE HERE!\n",
    "\n",
    "# Use the lower and upper `95%` confidence intervals to calculate the range of the possible outcomes of our $60,000\n",
    "# YOUR CODE HERE!\n",
    "\n",
    "# Print results\n",
    "print(f\"There is a 95% chance that an initial investment of ${initial_investment} in the portfolio\"\n",
    "      f\" over the next 10 years will end within in the range of\"\n",
    "      f\" ${ci_lower_ten} and ${ci_upper_ten}\")"
   ]
  }
 ],
 "metadata": {
  "kernelspec": {
   "display_name": "Python 3",
   "language": "python",
   "name": "python3"
  },
  "language_info": {
   "codemirror_mode": {
    "name": "ipython",
    "version": 3
   },
   "file_extension": ".py",
   "mimetype": "text/x-python",
   "name": "python",
   "nbconvert_exporter": "python",
   "pygments_lexer": "ipython3",
   "version": "3.7.10"
  }
 },
 "nbformat": 4,
 "nbformat_minor": 4
}
